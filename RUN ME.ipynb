{
 "cells": [
  {
   "cell_type": "markdown",
   "metadata": {},
   "source": [
    "# Brad's Python tutorial\n"
   ]
  },
  {
   "cell_type": "markdown",
   "metadata": {},
   "source": [
    "## Introduction"
   ]
  },
  {
   "cell_type": "markdown",
   "metadata": {},
   "source": [
    "This is Python running in a Jupyter notebook!  If you've installed Anaconda, just call jupyter notebook from a terminal and it should pop open a browser.\n",
    "\n",
    "shift+enter runs a block of code.  Try it below:"
   ]
  },
  {
   "cell_type": "code",
   "execution_count": 21,
   "metadata": {},
   "outputs": [
    {
     "name": "stdout",
     "output_type": "stream",
     "text": [
      "Hello world!\n"
     ]
    }
   ],
   "source": [
    "print( \"Hello world!\" )"
   ]
  },
  {
   "cell_type": "code",
   "execution_count": 25,
   "metadata": {},
   "outputs": [],
   "source": [
    "import warnings\n",
    "warnings.filterwarnings(\"ignore\")"
   ]
  },
  {
   "cell_type": "markdown",
   "metadata": {},
   "source": [
    "The best part about Python (I think) is its scientific computing stack.  For the purpose of image processing, that involves scikit-image, or skimage:"
   ]
  },
  {
   "cell_type": "code",
   "execution_count": 10,
   "metadata": {},
   "outputs": [],
   "source": [
    "import skimage\n",
    "from skimage import io"
   ]
  },
  {
   "cell_type": "markdown",
   "metadata": {},
   "source": [
    "This'll let us do lots of stuff immediately, like loading up a multi-slice tiff image"
   ]
  },
  {
   "cell_type": "code",
   "execution_count": 17,
   "metadata": {},
   "outputs": [
    {
     "data": {
      "text/plain": [
       "array([[[[16128, 16128, 16128],\n",
       "         [17408, 17408, 17408],\n",
       "         [17408, 17408, 17408],\n",
       "         ...,\n",
       "         [ 2816,  2816,  2816],\n",
       "         [ 3072,  3072,  3072],\n",
       "         [ 2304,  2304,  2304]],\n",
       "\n",
       "        [[14592, 14592, 14592],\n",
       "         [15104, 15104, 15104],\n",
       "         [15104, 15104, 15104],\n",
       "         ...,\n",
       "         [ 2816,  2816,  2816],\n",
       "         [ 3072,  3072,  3072],\n",
       "         [ 2816,  2816,  2816]],\n",
       "\n",
       "        [[11520, 11520, 11520],\n",
       "         [11776, 11776, 11776],\n",
       "         [11520, 11520, 11520],\n",
       "         ...,\n",
       "         [ 2816,  2816,  2816],\n",
       "         [ 2816,  2816,  2816],\n",
       "         [ 2304,  2304,  2304]],\n",
       "\n",
       "        ...,\n",
       "\n",
       "        [[ 3072,  3072,  3072],\n",
       "         [ 3072,  3072,  3072],\n",
       "         [ 2816,  2816,  2816],\n",
       "         ...,\n",
       "         [ 2816,  2816,  2816],\n",
       "         [ 3072,  3072,  3072],\n",
       "         [ 2304,  2304,  2304]],\n",
       "\n",
       "        [[ 2816,  2816,  2816],\n",
       "         [ 3072,  3072,  3072],\n",
       "         [ 3072,  3072,  3072],\n",
       "         ...,\n",
       "         [ 3072,  3072,  3072],\n",
       "         [ 3072,  3072,  3072],\n",
       "         [ 2560,  2560,  2560]],\n",
       "\n",
       "        [[ 2048,  2048,  2048],\n",
       "         [ 2304,  2304,  2304],\n",
       "         [ 2560,  2560,  2560],\n",
       "         ...,\n",
       "         [ 2816,  2816,  2816],\n",
       "         [ 3072,  3072,  3072],\n",
       "         [ 2304,  2304,  2304]]],\n",
       "\n",
       "\n",
       "       [[[19200, 19200, 19200],\n",
       "         [19712, 19712, 19712],\n",
       "         [18432, 18432, 18432],\n",
       "         ...,\n",
       "         [ 3072,  3072,  3072],\n",
       "         [ 3328,  3328,  3328],\n",
       "         [ 2816,  2816,  2816]],\n",
       "\n",
       "        [[14336, 14336, 14336],\n",
       "         [15616, 15616, 15616],\n",
       "         [17152, 17152, 17152],\n",
       "         ...,\n",
       "         [ 2816,  2816,  2816],\n",
       "         [ 2816,  2816,  2816],\n",
       "         [ 2816,  2816,  2816]],\n",
       "\n",
       "        [[ 7680,  7680,  7680],\n",
       "         [10240, 10240, 10240],\n",
       "         [15616, 15616, 15616],\n",
       "         ...,\n",
       "         [ 2816,  2816,  2816],\n",
       "         [ 3072,  3072,  3072],\n",
       "         [ 2304,  2304,  2304]],\n",
       "\n",
       "        ...,\n",
       "\n",
       "        [[ 3072,  3072,  3072],\n",
       "         [ 3072,  3072,  3072],\n",
       "         [ 2816,  2816,  2816],\n",
       "         ...,\n",
       "         [ 3072,  3072,  3072],\n",
       "         [ 3072,  3072,  3072],\n",
       "         [ 2816,  2816,  2816]],\n",
       "\n",
       "        [[ 3328,  3328,  3328],\n",
       "         [ 3584,  3584,  3584],\n",
       "         [ 2816,  2816,  2816],\n",
       "         ...,\n",
       "         [ 2816,  2816,  2816],\n",
       "         [ 3328,  3328,  3328],\n",
       "         [ 2304,  2304,  2304]],\n",
       "\n",
       "        [[ 2304,  2304,  2304],\n",
       "         [ 2560,  2560,  2560],\n",
       "         [ 2560,  2560,  2560],\n",
       "         ...,\n",
       "         [ 2560,  2560,  2560],\n",
       "         [ 2560,  2560,  2560],\n",
       "         [ 2048,  2048,  2048]]],\n",
       "\n",
       "\n",
       "       [[[20480, 20480, 20480],\n",
       "         [19200, 19200, 19200],\n",
       "         [17664, 17664, 17664],\n",
       "         ...,\n",
       "         [ 3072,  3072,  3072],\n",
       "         [ 2816,  2816,  2816],\n",
       "         [ 2304,  2304,  2304]],\n",
       "\n",
       "        [[15616, 15616, 15616],\n",
       "         [15616, 15616, 15616],\n",
       "         [17408, 17408, 17408],\n",
       "         ...,\n",
       "         [ 2816,  2816,  2816],\n",
       "         [ 2816,  2816,  2816],\n",
       "         [ 2560,  2560,  2560]],\n",
       "\n",
       "        [[ 9216,  9216,  9216],\n",
       "         [10752, 10752, 10752],\n",
       "         [18432, 18432, 18432],\n",
       "         ...,\n",
       "         [ 3072,  3072,  3072],\n",
       "         [ 3328,  3328,  3328],\n",
       "         [ 2560,  2560,  2560]],\n",
       "\n",
       "        ...,\n",
       "\n",
       "        [[ 2560,  2560,  2560],\n",
       "         [ 2560,  2560,  2560],\n",
       "         [ 2816,  2816,  2816],\n",
       "         ...,\n",
       "         [ 3072,  3072,  3072],\n",
       "         [ 3328,  3328,  3328],\n",
       "         [ 2560,  2560,  2560]],\n",
       "\n",
       "        [[ 2304,  2304,  2304],\n",
       "         [ 2560,  2560,  2560],\n",
       "         [ 3840,  3840,  3840],\n",
       "         ...,\n",
       "         [ 3072,  3072,  3072],\n",
       "         [ 3072,  3072,  3072],\n",
       "         [ 2560,  2560,  2560]],\n",
       "\n",
       "        [[ 2304,  2304,  2304],\n",
       "         [ 2560,  2560,  2560],\n",
       "         [ 6400,  6400,  6400],\n",
       "         ...,\n",
       "         [ 2560,  2560,  2560],\n",
       "         [ 2560,  2560,  2560],\n",
       "         [ 2048,  2048,  2048]]],\n",
       "\n",
       "\n",
       "       ...,\n",
       "\n",
       "\n",
       "       [[[ 5376,  5376,  5376],\n",
       "         [ 5632,  5632,  5632],\n",
       "         [ 4864,  4864,  4864],\n",
       "         ...,\n",
       "         [ 3328,  3328,  3328],\n",
       "         [ 2816,  2816,  2816],\n",
       "         [ 2560,  2560,  2560]],\n",
       "\n",
       "        [[12544, 12544, 12544],\n",
       "         [12544, 12544, 12544],\n",
       "         [ 7424,  7424,  7424],\n",
       "         ...,\n",
       "         [ 3072,  3072,  3072],\n",
       "         [ 2560,  2560,  2560],\n",
       "         [ 2304,  2304,  2304]],\n",
       "\n",
       "        [[15872, 15872, 15872],\n",
       "         [17152, 17152, 17152],\n",
       "         [17408, 17408, 17408],\n",
       "         ...,\n",
       "         [ 3328,  3328,  3328],\n",
       "         [ 2816,  2816,  2816],\n",
       "         [ 2304,  2304,  2304]],\n",
       "\n",
       "        ...,\n",
       "\n",
       "        [[ 3840,  3840,  3840],\n",
       "         [ 9216,  9216,  9216],\n",
       "         [13312, 13312, 13312],\n",
       "         ...,\n",
       "         [ 3584,  3584,  3584],\n",
       "         [ 3840,  3840,  3840],\n",
       "         [ 3072,  3072,  3072]],\n",
       "\n",
       "        [[ 3840,  3840,  3840],\n",
       "         [10240, 10240, 10240],\n",
       "         [14592, 14592, 14592],\n",
       "         ...,\n",
       "         [ 3328,  3328,  3328],\n",
       "         [ 4608,  4608,  4608],\n",
       "         [ 6144,  6144,  6144]],\n",
       "\n",
       "        [[ 3840,  3840,  3840],\n",
       "         [ 9728,  9728,  9728],\n",
       "         [12800, 12800, 12800],\n",
       "         ...,\n",
       "         [ 3072,  3072,  3072],\n",
       "         [ 3328,  3328,  3328],\n",
       "         [ 4864,  4864,  4864]]],\n",
       "\n",
       "\n",
       "       [[[ 6656,  6656,  6656],\n",
       "         [ 6144,  6144,  6144],\n",
       "         [ 4864,  4864,  4864],\n",
       "         ...,\n",
       "         [ 2816,  2816,  2816],\n",
       "         [ 2560,  2560,  2560],\n",
       "         [ 2304,  2304,  2304]],\n",
       "\n",
       "        [[13568, 13568, 13568],\n",
       "         [10496, 10496, 10496],\n",
       "         [ 5888,  5888,  5888],\n",
       "         ...,\n",
       "         [ 2560,  2560,  2560],\n",
       "         [ 3072,  3072,  3072],\n",
       "         [ 2816,  2816,  2816]],\n",
       "\n",
       "        [[16384, 16384, 16384],\n",
       "         [15360, 15360, 15360],\n",
       "         [16384, 16384, 16384],\n",
       "         ...,\n",
       "         [ 2816,  2816,  2816],\n",
       "         [ 3072,  3072,  3072],\n",
       "         [ 2816,  2816,  2816]],\n",
       "\n",
       "        ...,\n",
       "\n",
       "        [[ 3072,  3072,  3072],\n",
       "         [ 7168,  7168,  7168],\n",
       "         [13056, 13056, 13056],\n",
       "         ...,\n",
       "         [ 3328,  3328,  3328],\n",
       "         [ 3072,  3072,  3072],\n",
       "         [ 2816,  2816,  2816]],\n",
       "\n",
       "        [[ 3072,  3072,  3072],\n",
       "         [ 8704,  8704,  8704],\n",
       "         [14592, 14592, 14592],\n",
       "         ...,\n",
       "         [ 3072,  3072,  3072],\n",
       "         [ 3840,  3840,  3840],\n",
       "         [ 3840,  3840,  3840]],\n",
       "\n",
       "        [[ 3328,  3328,  3328],\n",
       "         [ 8704,  8704,  8704],\n",
       "         [12800, 12800, 12800],\n",
       "         ...,\n",
       "         [ 2816,  2816,  2816],\n",
       "         [ 3584,  3584,  3584],\n",
       "         [ 5376,  5376,  5376]]],\n",
       "\n",
       "\n",
       "       [[[ 6144,  6144,  6144],\n",
       "         [ 5888,  5888,  5888],\n",
       "         [ 5376,  5376,  5376],\n",
       "         ...,\n",
       "         [ 3072,  3072,  3072],\n",
       "         [ 2816,  2816,  2816],\n",
       "         [ 2304,  2304,  2304]],\n",
       "\n",
       "        [[10752, 10752, 10752],\n",
       "         [ 6400,  6400,  6400],\n",
       "         [ 6144,  6144,  6144],\n",
       "         ...,\n",
       "         [ 2816,  2816,  2816],\n",
       "         [ 3072,  3072,  3072],\n",
       "         [ 2560,  2560,  2560]],\n",
       "\n",
       "        [[15616, 15616, 15616],\n",
       "         [14848, 14848, 14848],\n",
       "         [17664, 17664, 17664],\n",
       "         ...,\n",
       "         [ 2816,  2816,  2816],\n",
       "         [ 2816,  2816,  2816],\n",
       "         [ 2048,  2048,  2048]],\n",
       "\n",
       "        ...,\n",
       "\n",
       "        [[ 3840,  3840,  3840],\n",
       "         [ 7424,  7424,  7424],\n",
       "         [12800, 12800, 12800],\n",
       "         ...,\n",
       "         [ 3584,  3584,  3584],\n",
       "         [ 4096,  4096,  4096],\n",
       "         [ 2816,  2816,  2816]],\n",
       "\n",
       "        [[ 4096,  4096,  4096],\n",
       "         [ 8704,  8704,  8704],\n",
       "         [13824, 13824, 13824],\n",
       "         ...,\n",
       "         [ 3328,  3328,  3328],\n",
       "         [ 4096,  4096,  4096],\n",
       "         [ 5376,  5376,  5376]],\n",
       "\n",
       "        [[ 4608,  4608,  4608],\n",
       "         [ 8704,  8704,  8704],\n",
       "         [12544, 12544, 12544],\n",
       "         ...,\n",
       "         [ 2816,  2816,  2816],\n",
       "         [ 3328,  3328,  3328],\n",
       "         [ 5888,  5888,  5888]]]], dtype=uint16)"
      ]
     },
     "execution_count": 17,
     "metadata": {},
     "output_type": "execute_result"
    }
   ],
   "source": [
    "img = skimage.io.imread('020513 Region 001.tif')\n",
    "img"
   ]
  },
  {
   "cell_type": "markdown",
   "metadata": {},
   "source": [
    "Here's the image displayed as the computer sees it: an array of numbers.  That's not really useful to us, so we'll poke it a bit to get some metadata about it, and display it. I'm also going to suppress some warnings regard the current version of the libraries we're using, disregard that."
   ]
  },
  {
   "cell_type": "code",
   "execution_count": 23,
   "metadata": {},
   "outputs": [
    {
     "ename": "TypeError",
     "evalue": "Invalid dimensions for image data",
     "output_type": "error",
     "traceback": [
      "\u001b[0;31m---------------------------------------------------------------------------\u001b[0m",
      "\u001b[0;31mTypeError\u001b[0m                                 Traceback (most recent call last)",
      "\u001b[0;32m<ipython-input-23-41e8c93a5d33>\u001b[0m in \u001b[0;36m<module>\u001b[0;34m()\u001b[0m\n\u001b[1;32m      2\u001b[0m \u001b[0mwarnings\u001b[0m\u001b[0;34m.\u001b[0m\u001b[0mfilterwarnings\u001b[0m\u001b[0;34m(\u001b[0m\u001b[0;34m\"ignore\"\u001b[0m\u001b[0;34m)\u001b[0m\u001b[0;34m\u001b[0m\u001b[0m\n\u001b[1;32m      3\u001b[0m \u001b[0;34m\u001b[0m\u001b[0m\n\u001b[0;32m----> 4\u001b[0;31m \u001b[0mskimage\u001b[0m\u001b[0;34m.\u001b[0m\u001b[0mio\u001b[0m\u001b[0;34m.\u001b[0m\u001b[0mimshow\u001b[0m\u001b[0;34m(\u001b[0m\u001b[0mimg\u001b[0m\u001b[0;34m)\u001b[0m\u001b[0;34m\u001b[0m\u001b[0m\n\u001b[0m",
      "\u001b[0;32m~/anaconda3/lib/python3.6/site-packages/skimage/io/_io.py\u001b[0m in \u001b[0;36mimshow\u001b[0;34m(arr, plugin, **plugin_args)\u001b[0m\n\u001b[1;32m    154\u001b[0m     \u001b[0;32mif\u001b[0m \u001b[0misinstance\u001b[0m\u001b[0;34m(\u001b[0m\u001b[0marr\u001b[0m\u001b[0;34m,\u001b[0m \u001b[0msix\u001b[0m\u001b[0;34m.\u001b[0m\u001b[0mstring_types\u001b[0m\u001b[0;34m)\u001b[0m\u001b[0;34m:\u001b[0m\u001b[0;34m\u001b[0m\u001b[0m\n\u001b[1;32m    155\u001b[0m         \u001b[0marr\u001b[0m \u001b[0;34m=\u001b[0m \u001b[0mcall_plugin\u001b[0m\u001b[0;34m(\u001b[0m\u001b[0;34m'imread'\u001b[0m\u001b[0;34m,\u001b[0m \u001b[0marr\u001b[0m\u001b[0;34m,\u001b[0m \u001b[0mplugin\u001b[0m\u001b[0;34m=\u001b[0m\u001b[0mplugin\u001b[0m\u001b[0;34m)\u001b[0m\u001b[0;34m\u001b[0m\u001b[0m\n\u001b[0;32m--> 156\u001b[0;31m     \u001b[0;32mreturn\u001b[0m \u001b[0mcall_plugin\u001b[0m\u001b[0;34m(\u001b[0m\u001b[0;34m'imshow'\u001b[0m\u001b[0;34m,\u001b[0m \u001b[0marr\u001b[0m\u001b[0;34m,\u001b[0m \u001b[0mplugin\u001b[0m\u001b[0;34m=\u001b[0m\u001b[0mplugin\u001b[0m\u001b[0;34m,\u001b[0m \u001b[0;34m**\u001b[0m\u001b[0mplugin_args\u001b[0m\u001b[0;34m)\u001b[0m\u001b[0;34m\u001b[0m\u001b[0m\n\u001b[0m\u001b[1;32m    157\u001b[0m \u001b[0;34m\u001b[0m\u001b[0m\n\u001b[1;32m    158\u001b[0m \u001b[0;34m\u001b[0m\u001b[0m\n",
      "\u001b[0;32m~/anaconda3/lib/python3.6/site-packages/skimage/io/manage_plugins.py\u001b[0m in \u001b[0;36mcall_plugin\u001b[0;34m(kind, *args, **kwargs)\u001b[0m\n\u001b[1;32m    209\u001b[0m                                (plugin, kind))\n\u001b[1;32m    210\u001b[0m \u001b[0;34m\u001b[0m\u001b[0m\n\u001b[0;32m--> 211\u001b[0;31m     \u001b[0;32mreturn\u001b[0m \u001b[0mfunc\u001b[0m\u001b[0;34m(\u001b[0m\u001b[0;34m*\u001b[0m\u001b[0margs\u001b[0m\u001b[0;34m,\u001b[0m \u001b[0;34m**\u001b[0m\u001b[0mkwargs\u001b[0m\u001b[0;34m)\u001b[0m\u001b[0;34m\u001b[0m\u001b[0m\n\u001b[0m\u001b[1;32m    212\u001b[0m \u001b[0;34m\u001b[0m\u001b[0m\n\u001b[1;32m    213\u001b[0m \u001b[0;34m\u001b[0m\u001b[0m\n",
      "\u001b[0;32m~/anaconda3/lib/python3.6/site-packages/skimage/io/_plugins/matplotlib_plugin.py\u001b[0m in \u001b[0;36mimshow\u001b[0;34m(im, ax, show_cbar, **kwargs)\u001b[0m\n\u001b[1;32m    155\u001b[0m \u001b[0;34m\u001b[0m\u001b[0m\n\u001b[1;32m    156\u001b[0m     \u001b[0max\u001b[0m \u001b[0;34m=\u001b[0m \u001b[0max\u001b[0m \u001b[0;32mor\u001b[0m \u001b[0mplt\u001b[0m\u001b[0;34m.\u001b[0m\u001b[0mgca\u001b[0m\u001b[0;34m(\u001b[0m\u001b[0;34m)\u001b[0m\u001b[0;34m\u001b[0m\u001b[0m\n\u001b[0;32m--> 157\u001b[0;31m     \u001b[0max_im\u001b[0m \u001b[0;34m=\u001b[0m \u001b[0max\u001b[0m\u001b[0;34m.\u001b[0m\u001b[0mimshow\u001b[0m\u001b[0;34m(\u001b[0m\u001b[0mim\u001b[0m\u001b[0;34m,\u001b[0m \u001b[0;34m**\u001b[0m\u001b[0mkwargs\u001b[0m\u001b[0;34m)\u001b[0m\u001b[0;34m\u001b[0m\u001b[0m\n\u001b[0m\u001b[1;32m    158\u001b[0m     \u001b[0;32mif\u001b[0m \u001b[0;34m(\u001b[0m\u001b[0mcmap\u001b[0m \u001b[0;34m!=\u001b[0m \u001b[0m_default_colormap\u001b[0m \u001b[0;32mand\u001b[0m \u001b[0mshow_cbar\u001b[0m \u001b[0;32mis\u001b[0m \u001b[0;32mnot\u001b[0m \u001b[0;32mFalse\u001b[0m\u001b[0;34m)\u001b[0m \u001b[0;32mor\u001b[0m \u001b[0mshow_cbar\u001b[0m\u001b[0;34m:\u001b[0m\u001b[0;34m\u001b[0m\u001b[0m\n\u001b[1;32m    159\u001b[0m         \u001b[0mdivider\u001b[0m \u001b[0;34m=\u001b[0m \u001b[0mmake_axes_locatable\u001b[0m\u001b[0;34m(\u001b[0m\u001b[0max\u001b[0m\u001b[0;34m)\u001b[0m\u001b[0;34m\u001b[0m\u001b[0m\n",
      "\u001b[0;32m~/anaconda3/lib/python3.6/site-packages/matplotlib/__init__.py\u001b[0m in \u001b[0;36minner\u001b[0;34m(ax, *args, **kwargs)\u001b[0m\n\u001b[1;32m   1715\u001b[0m                     warnings.warn(msg % (label_namer, func.__name__),\n\u001b[1;32m   1716\u001b[0m                                   RuntimeWarning, stacklevel=2)\n\u001b[0;32m-> 1717\u001b[0;31m             \u001b[0;32mreturn\u001b[0m \u001b[0mfunc\u001b[0m\u001b[0;34m(\u001b[0m\u001b[0max\u001b[0m\u001b[0;34m,\u001b[0m \u001b[0;34m*\u001b[0m\u001b[0margs\u001b[0m\u001b[0;34m,\u001b[0m \u001b[0;34m**\u001b[0m\u001b[0mkwargs\u001b[0m\u001b[0;34m)\u001b[0m\u001b[0;34m\u001b[0m\u001b[0m\n\u001b[0m\u001b[1;32m   1718\u001b[0m         \u001b[0mpre_doc\u001b[0m \u001b[0;34m=\u001b[0m \u001b[0minner\u001b[0m\u001b[0;34m.\u001b[0m\u001b[0m__doc__\u001b[0m\u001b[0;34m\u001b[0m\u001b[0m\n\u001b[1;32m   1719\u001b[0m         \u001b[0;32mif\u001b[0m \u001b[0mpre_doc\u001b[0m \u001b[0;32mis\u001b[0m \u001b[0;32mNone\u001b[0m\u001b[0;34m:\u001b[0m\u001b[0;34m\u001b[0m\u001b[0m\n",
      "\u001b[0;32m~/anaconda3/lib/python3.6/site-packages/matplotlib/axes/_axes.py\u001b[0m in \u001b[0;36mimshow\u001b[0;34m(self, X, cmap, norm, aspect, interpolation, alpha, vmin, vmax, origin, extent, shape, filternorm, filterrad, imlim, resample, url, **kwargs)\u001b[0m\n\u001b[1;32m   5129\u001b[0m                               resample=resample, **kwargs)\n\u001b[1;32m   5130\u001b[0m \u001b[0;34m\u001b[0m\u001b[0m\n\u001b[0;32m-> 5131\u001b[0;31m         \u001b[0mim\u001b[0m\u001b[0;34m.\u001b[0m\u001b[0mset_data\u001b[0m\u001b[0;34m(\u001b[0m\u001b[0mX\u001b[0m\u001b[0;34m)\u001b[0m\u001b[0;34m\u001b[0m\u001b[0m\n\u001b[0m\u001b[1;32m   5132\u001b[0m         \u001b[0mim\u001b[0m\u001b[0;34m.\u001b[0m\u001b[0mset_alpha\u001b[0m\u001b[0;34m(\u001b[0m\u001b[0malpha\u001b[0m\u001b[0;34m)\u001b[0m\u001b[0;34m\u001b[0m\u001b[0m\n\u001b[1;32m   5133\u001b[0m         \u001b[0;32mif\u001b[0m \u001b[0mim\u001b[0m\u001b[0;34m.\u001b[0m\u001b[0mget_clip_path\u001b[0m\u001b[0;34m(\u001b[0m\u001b[0;34m)\u001b[0m \u001b[0;32mis\u001b[0m \u001b[0;32mNone\u001b[0m\u001b[0;34m:\u001b[0m\u001b[0;34m\u001b[0m\u001b[0m\n",
      "\u001b[0;32m~/anaconda3/lib/python3.6/site-packages/matplotlib/image.py\u001b[0m in \u001b[0;36mset_data\u001b[0;34m(self, A)\u001b[0m\n\u001b[1;32m    620\u001b[0m         if not (self._A.ndim == 2\n\u001b[1;32m    621\u001b[0m                 or self._A.ndim == 3 and self._A.shape[-1] in [3, 4]):\n\u001b[0;32m--> 622\u001b[0;31m             \u001b[0;32mraise\u001b[0m \u001b[0mTypeError\u001b[0m\u001b[0;34m(\u001b[0m\u001b[0;34m\"Invalid dimensions for image data\"\u001b[0m\u001b[0;34m)\u001b[0m\u001b[0;34m\u001b[0m\u001b[0m\n\u001b[0m\u001b[1;32m    623\u001b[0m \u001b[0;34m\u001b[0m\u001b[0m\n\u001b[1;32m    624\u001b[0m         \u001b[0mself\u001b[0m\u001b[0;34m.\u001b[0m\u001b[0m_imcache\u001b[0m \u001b[0;34m=\u001b[0m \u001b[0;32mNone\u001b[0m\u001b[0;34m\u001b[0m\u001b[0m\n",
      "\u001b[0;31mTypeError\u001b[0m: Invalid dimensions for image data"
     ]
    },
    {
     "data": {
      "image/png": "[encoded data removed]",
      "text/plain": [
       "<matplotlib.figure.Figure at 0x7fbf2805b9b0>"
      ]
     },
     "metadata": {},
     "output_type": "display_data"
    }
   ],
   "source": [
    "skimage.io.imshow(img)"
   ]
  },
  {
   "cell_type": "markdown",
   "metadata": {},
   "source": [
    "Oh, it didn't like that!  Let's look at the shape of the image to see why:"
   ]
  },
  {
   "cell_type": "code",
   "execution_count": 19,
   "metadata": {},
   "outputs": [
    {
     "data": {
      "text/plain": [
       "(166, 128, 128, 3)"
      ]
     },
     "execution_count": 19,
     "metadata": {},
     "output_type": "execute_result"
    }
   ],
   "source": [
    "img.shape"
   ]
  },
  {
   "cell_type": "markdown",
   "metadata": {},
   "source": [
    "So, z,x,y,c.  \n",
    "\n",
    "Okay, let's take a slice from the middle and see if that works better.  To do so, we're going to use something called \"slicing\" the array.  ':' specifies a range, from a:b, or by itself it means \"everything in this axis.\"  If you're familiar with Matlab, it's pretty much the same thing."
   ]
  },
  {
   "cell_type": "code",
   "execution_count": 24,
   "metadata": {},
   "outputs": [
    {
     "data": {
      "text/plain": [
       "<matplotlib.image.AxesImage at 0x7fbf27f6b438>"
      ]
     },
     "execution_count": 24,
     "metadata": {},
     "output_type": "execute_result"
    },
    {
     "data": {
      "image/png": "[encoded data removed]",
      "text/plain": [
       "<matplotlib.figure.Figure at 0x7fbf27fc6c88>"
      ]
     },
     "metadata": {},
     "output_type": "display_data"
    }
   ],
   "source": [
    "skimage.io.imshow(img[100,:,:,0])"
   ]
  },
  {
   "cell_type": "markdown",
   "metadata": {},
   "source": [
    "That's nicer."
   ]
  },
  {
   "cell_type": "code",
   "execution_count": null,
   "metadata": {},
   "outputs": [],
   "source": []
  }
 ],
 "metadata": {
  "kernelspec": {
   "display_name": "Python 3",
   "language": "python",
   "name": "python3"
  },
  "language_info": {
   "codemirror_mode": {
    "name": "ipython",
    "version": 3
   },
   "file_extension": ".py",
   "mimetype": "text/x-python",
   "name": "python",
   "nbconvert_exporter": "python",
   "pygments_lexer": "ipython3",
   "version": "3.6.4"
  }
 },
 "nbformat": 4,
 "nbformat_minor": 2
}
